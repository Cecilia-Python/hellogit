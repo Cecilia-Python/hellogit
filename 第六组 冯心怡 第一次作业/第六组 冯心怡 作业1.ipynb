{
 "cells": [
  {
   "cell_type": "markdown",
   "metadata": {},
   "source": [
    "# 1.python基础作业"
   ]
  },
  {
   "cell_type": "markdown",
   "metadata": {},
   "source": [
    "1.1 type任意两个数值，输出float、int"
   ]
  },
  {
   "cell_type": "code",
   "execution_count": 3,
   "metadata": {},
   "outputs": [
    {
     "data": {
      "text/plain": [
       "float"
      ]
     },
     "execution_count": 3,
     "metadata": {},
     "output_type": "execute_result"
    }
   ],
   "source": [
    "type(1.1)"
   ]
  },
  {
   "cell_type": "code",
   "execution_count": 5,
   "metadata": {},
   "outputs": [
    {
     "data": {
      "text/plain": [
       "int"
      ]
     },
     "execution_count": 5,
     "metadata": {},
     "output_type": "execute_result"
    }
   ],
   "source": [
    "type(3)"
   ]
  },
  {
   "cell_type": "markdown",
   "metadata": {},
   "source": [
    "1.2给a、b、c赋值，输出结果为12，并判断a与b是否相等"
   ]
  },
  {
   "cell_type": "code",
   "execution_count": 10,
   "metadata": {},
   "outputs": [
    {
     "name": "stdout",
     "output_type": "stream",
     "text": [
      "12\n"
     ]
    },
    {
     "data": {
      "text/plain": [
       "False"
      ]
     },
     "execution_count": 10,
     "metadata": {},
     "output_type": "execute_result"
    }
   ],
   "source": [
    "a=12\n",
    "b=0\n",
    "c=a+b\n",
    "print(c)\n",
    "a==b"
   ]
  },
  {
   "cell_type": "markdown",
   "metadata": {},
   "source": [
    "1.3要求用户输入1到100之间数字并判断，输入符合要求,如果是1-100以内的数字，输出“100以内的数字”，否则输出“区间以外的数字”。最后打印结果为100以内的数字。"
   ]
  },
  {
   "cell_type": "code",
   "execution_count": 19,
   "metadata": {},
   "outputs": [
    {
     "name": "stdout",
     "output_type": "stream",
     "text": [
      "请输入1-100的数字:3\n",
      "3\n",
      "100以内的数字: 1\n",
      "100以内的数字: 2\n",
      "100以内的数字: 3\n",
      "100以内的数字: 4\n",
      "100以内的数字: 5\n",
      "100以内的数字: 6\n",
      "100以内的数字: 7\n",
      "100以内的数字: 8\n",
      "100以内的数字: 9\n",
      "100以内的数字: 10\n",
      "100以内的数字: 11\n",
      "100以内的数字: 12\n",
      "100以内的数字: 13\n",
      "100以内的数字: 14\n",
      "100以内的数字: 15\n",
      "100以内的数字: 16\n",
      "100以内的数字: 17\n",
      "100以内的数字: 18\n",
      "100以内的数字: 19\n",
      "100以内的数字: 20\n",
      "100以内的数字: 21\n",
      "100以内的数字: 22\n",
      "100以内的数字: 23\n",
      "100以内的数字: 24\n",
      "100以内的数字: 25\n",
      "100以内的数字: 26\n",
      "100以内的数字: 27\n",
      "100以内的数字: 28\n",
      "100以内的数字: 29\n",
      "100以内的数字: 30\n",
      "100以内的数字: 31\n",
      "100以内的数字: 32\n",
      "100以内的数字: 33\n",
      "100以内的数字: 34\n",
      "100以内的数字: 35\n",
      "100以内的数字: 36\n",
      "100以内的数字: 37\n",
      "100以内的数字: 38\n",
      "100以内的数字: 39\n",
      "100以内的数字: 40\n",
      "100以内的数字: 41\n",
      "100以内的数字: 42\n",
      "100以内的数字: 43\n",
      "100以内的数字: 44\n",
      "100以内的数字: 45\n",
      "100以内的数字: 46\n",
      "100以内的数字: 47\n",
      "100以内的数字: 48\n",
      "100以内的数字: 49\n",
      "100以内的数字: 50\n",
      "100以内的数字: 51\n",
      "100以内的数字: 52\n",
      "100以内的数字: 53\n",
      "100以内的数字: 54\n",
      "100以内的数字: 55\n",
      "100以内的数字: 56\n",
      "100以内的数字: 57\n",
      "100以内的数字: 58\n",
      "100以内的数字: 59\n",
      "100以内的数字: 60\n",
      "100以内的数字: 61\n",
      "100以内的数字: 62\n",
      "100以内的数字: 63\n",
      "100以内的数字: 64\n",
      "100以内的数字: 65\n",
      "100以内的数字: 66\n",
      "100以内的数字: 67\n",
      "100以内的数字: 68\n",
      "100以内的数字: 69\n",
      "100以内的数字: 70\n",
      "100以内的数字: 71\n",
      "100以内的数字: 72\n",
      "100以内的数字: 73\n",
      "100以内的数字: 74\n",
      "100以内的数字: 75\n",
      "100以内的数字: 76\n",
      "100以内的数字: 77\n",
      "100以内的数字: 78\n",
      "100以内的数字: 79\n",
      "100以内的数字: 80\n",
      "100以内的数字: 81\n",
      "100以内的数字: 82\n",
      "100以内的数字: 83\n",
      "100以内的数字: 84\n",
      "100以内的数字: 85\n",
      "100以内的数字: 86\n",
      "100以内的数字: 87\n",
      "100以内的数字: 88\n",
      "100以内的数字: 89\n",
      "100以内的数字: 90\n",
      "100以内的数字: 91\n",
      "100以内的数字: 92\n",
      "100以内的数字: 93\n",
      "100以内的数字: 94\n",
      "100以内的数字: 95\n",
      "100以内的数字: 96\n",
      "100以内的数字: 97\n",
      "100以内的数字: 98\n",
      "100以内的数字: 99\n"
     ]
    }
   ],
   "source": [
    "number=input('请输入1-100的数字:')\n",
    "num=int(number)\n",
    "if num>1 & num<100:\n",
    "    print(number)\n",
    "else:\n",
    "    print('区间以外的数字')\n",
    "i=0\n",
    "while i<99:\n",
    "    i=i+1\n",
    "    print('100以内的数字:',i)"
   ]
  },
  {
   "cell_type": "markdown",
   "metadata": {},
   "source": [
    "1.4   python单行注释和多行注解分别用什么?\n"
   ]
  },
  {
   "cell_type": "code",
   "execution_count": 26,
   "metadata": {},
   "outputs": [
    {
     "data": {
      "text/plain": [
       "\"\\n宽客你好\\nprint('hello quant')\\n\""
      ]
     },
     "execution_count": 26,
     "metadata": {},
     "output_type": "execute_result"
    }
   ],
   "source": [
    "#sev \n",
    "\n",
    "\"\"\"\n",
    "宽容\n",
    "\"\"\"\n",
    "\"\"\"\n",
    "宽客你好\n",
    "print('hello quant')\n",
    "\"\"\""
   ]
  },
  {
   "cell_type": "code",
   "execution_count": null,
   "metadata": {},
   "outputs": [],
   "source": []
  }
 ],
 "metadata": {
  "kernelspec": {
   "display_name": "Python 3",
   "language": "python",
   "name": "python3"
  },
  "language_info": {
   "codemirror_mode": {
    "name": "ipython",
    "version": 3
   },
   "file_extension": ".py",
   "mimetype": "text/x-python",
   "name": "python",
   "nbconvert_exporter": "python",
   "pygments_lexer": "ipython3",
   "version": "3.7.3"
  }
 },
 "nbformat": 4,
 "nbformat_minor": 2
}
